{
  "cells": [
    {
      "cell_type": "markdown",
      "metadata": {
        "id": "view-in-github",
        "colab_type": "text"
      },
      "source": [
        "<a href=\"https://colab.research.google.com/github/LVaditya/BusinessCard-Reader/blob/main/BusinessCard.ipynb\" target=\"_parent\"><img src=\"https://colab.research.google.com/assets/colab-badge.svg\" alt=\"Open In Colab\"/></a>"
      ]
    },
    {
      "cell_type": "code",
      "execution_count": null,
      "metadata": {
        "id": "iBQi_GffpH57"
      },
      "outputs": [],
      "source": [
        "!pip install easyocr "
      ]
    },
    {
      "cell_type": "code",
      "execution_count": null,
      "metadata": {
        "id": "QGYZvbiuTSIK"
      },
      "outputs": [],
      "source": [
        "!pip install streamlit"
      ]
    },
    {
      "cell_type": "code",
      "execution_count": null,
      "metadata": {
        "id": "d_5CDamdT-JP"
      },
      "outputs": [],
      "source": [
        "!pip install pyngrok"
      ]
    },
    {
      "cell_type": "code",
      "execution_count": 4,
      "metadata": {
        "id": "YDMApNEMUDuc"
      },
      "outputs": [],
      "source": [
        "from pyngrok import ngrok"
      ]
    },
    {
      "cell_type": "code",
      "execution_count": 5,
      "metadata": {
        "colab": {
          "base_uri": "https://localhost:8080/"
        },
        "id": "LivHGs9jUISX",
        "outputId": "0b015d44-fe3a-4cf8-d2d4-6d7c50c919d6"
      },
      "outputs": [
        {
          "output_type": "stream",
          "name": "stdout",
          "text": []
        }
      ],
      "source": [
        "ngrok.set_auth_token('2L6Kz7Hvawi3QB7akHGUu8CRsfi_5JPuFqERA67quEKGFuvaU')"
      ]
    },
    {
      "cell_type": "code",
      "execution_count": 45,
      "metadata": {
        "colab": {
          "base_uri": "https://localhost:8080/"
        },
        "id": "KZuY9g5iUJRX",
        "outputId": "e1377515-95d7-4b8f-b5d4-4d818f5e9ce9"
      },
      "outputs": [
        {
          "output_type": "stream",
          "name": "stdout",
          "text": [
            "Overwriting app.py\n"
          ]
        }
      ],
      "source": [
        "%%writefile app.py\n",
        "\n",
        "# import all the packages needed\n",
        "\n",
        "import streamlit as st \n",
        "from PIL import Image\n",
        "import easyocr\n",
        "import pandas as pd\n",
        "import numpy as np\n",
        "from numpy import asarray\n",
        "import re\n",
        "import os\n",
        "import sqlite3\n",
        "\n",
        "\n",
        "conn = sqlite3.connect('Businesscard.db')\n",
        "c = conn.cursor()\n",
        "\n",
        "\n",
        "#-------Page Configuration--------\n",
        "\n",
        "st.set_page_config(page_title=\"Business Card Reader\",\n",
        "                    page_icon=\":black_small_square:\",\n",
        "                    layout=\"wide\"\n",
        "                    )\n",
        "\n",
        "st.title(\"Business Card Reader\")\n",
        "\n",
        "\n",
        "#loading the image\n",
        "\n",
        "\n",
        "def main():\n",
        " \n",
        "  #file to be uploaded is taken as image_file\n",
        "\n",
        "  image_file= st.file_uploader(\"upload the image of business card you want to extract data\", type=[\"jpg\",\"png\",\"jpeg\"])\n",
        "\n",
        "\n",
        "#-------image file is read using OCR------\n",
        "  @st.cache_data\n",
        "  def load_model():\n",
        "    reader=easyocr.Reader(['en'])\n",
        "    return reader\n",
        "  \n",
        "  reader=load_model()\n",
        "\n",
        "  #-----------------if the image is uploaded------\n",
        "\n",
        "  if image_file is not None:\n",
        "\n",
        "    img = Image.open(image_file)  #read image\n",
        "    st.image(img, width=400)                 #display image\n",
        "\n",
        "    #saving file into tempDir\n",
        "\n",
        "    with open('tempDir.png','wb') as f:     \n",
        "      f.write(image_file.getbuffer())\n",
        "\n",
        "    #-------converting file to binary array---------\n",
        "\n",
        "   \n",
        "    with st.spinner(\"Please wait.... work in progress\"):\n",
        "\n",
        "      data = reader.readtext(np.array(img))       #load the data from image as data\n",
        "      text_result=[]\n",
        "\n",
        "      text_dict={'Name':[], 'Designation':[], 'Phone':[], 'Email':[], 'Website':[], 'City':[], 'State':[], 'Pincode':[]}\n",
        "      for text in data:\n",
        "        text_result.append(text[1])\n",
        "\n",
        "      text_dict['Name'] = text_result[0]\n",
        "      text_dict['Designation']= text_result[1]\n",
        "\n",
        "\n",
        "      for text in text_result:\n",
        "        if 'WWW'in text or 'www' in text or 'wwW' in text:\n",
        "          text_dict['Website'] = text\n",
        "\n",
        "        elif '@' in text: \n",
        "          text_dict['Email']= text\n",
        "\n",
        "        elif '-' in text:\n",
        "          text_dict['Phone'] = text\n",
        "        \n",
        "        else:\n",
        "          l=list(map(str,text.split(\" \")))\n",
        "          for i in l:\n",
        "            i=i.replace(\",\",\"\")\n",
        "            i=i.replace(\";\",\"\")\n",
        "            if i.isdigit():\n",
        "              text_dict['Pincode'] = i\n",
        "            elif i.lower() in ['tamilnadu', 'kerala','karnataka', \n",
        "            'maharashtra', 'delhi', 'andhra pradesh', 'telangana' ]:\n",
        "              text_dict['State'] = i\n",
        "            elif i.lower() in ['chennai', 'hydrabad', 'salem', 'erode', 'tirupur', 'coimbatore']:\n",
        "              text_dict['City'] = i\n",
        "\n",
        "      text_dict_1=st.experimental_data_editor(data=text_dict)            #All collected data is displayed in table format\n",
        "\n",
        "      \n",
        "      with open(\"tempDir.png\",'rb') as m:   # reading image as binary data and storing  \n",
        "        img_data = m.read()                 # in img_data\n",
        "\n",
        "\n",
        "      text_dict_1['image'] = img_data\n",
        "\n",
        "      df=pd.DataFrame(text_dict_1, index=[0])    #converting into dataframe\n",
        "\n",
        "#-----------to upload the data into sqlite------\n",
        "\n",
        "    upload = st.button(\"upload data\")\n",
        "\n",
        "    if upload:\n",
        "\n",
        "      try:\n",
        "        df.to_sql('Card_values',conn,if_exists='append',index=False)    # data appended into a table in database\n",
        "        \n",
        "\n",
        "\n",
        "      except:\n",
        "        print(\"connection error\")\n",
        "\n",
        "    conn.commit()\n",
        "    c.close()\n",
        "    conn.close()\n",
        "\n",
        "#----------if image not uploaded-----\n",
        "    \n",
        "  else:\n",
        "    st.write(\"upload an image of business card\")\n",
        "\n",
        "\n",
        "\n",
        "  \n",
        "if __name__=='__main__':\n",
        "  main()"
      ]
    },
    {
      "cell_type": "code",
      "execution_count": 7,
      "metadata": {
        "colab": {
          "base_uri": "https://localhost:8080/"
        },
        "id": "3muXludiXWNG",
        "outputId": "8fbae798-49b6-4813-ea8c-ac616c11e505"
      },
      "outputs": [
        {
          "output_type": "stream",
          "name": "stdout",
          "text": [
            "nohup: appending output to 'nohup.out'\n",
            "NgrokTunnel: \"http://933e-34-125-24-137.ngrok.io\" -> \"http://localhost:80\"\n"
          ]
        }
      ],
      "source": [
        "!nohup streamlit run app.py --server.port 80 &\n",
        "url = ngrok.connect(port = '80')\n",
        "print(url)"
      ]
    },
    {
      "cell_type": "code",
      "execution_count": 13,
      "metadata": {
        "id": "C34Izd4wvWCn"
      },
      "outputs": [],
      "source": [
        "import sqlite3\n",
        "import pandas as pd"
      ]
    },
    {
      "cell_type": "code",
      "execution_count": 25,
      "metadata": {
        "id": "ePHXyRs5vbDb"
      },
      "outputs": [],
      "source": [
        "conn=sqlite3.connect('Businesscard.db')\n",
        "c=conn.cursor()\n"
      ]
    },
    {
      "cell_type": "code",
      "execution_count": 57,
      "metadata": {
        "id": "dq9o9llTv95g"
      },
      "outputs": [],
      "source": [
        "query='''select * from Card_values'''"
      ]
    },
    {
      "cell_type": "code",
      "execution_count": 58,
      "metadata": {
        "id": "KUBuAV-Wvq0z"
      },
      "outputs": [],
      "source": [
        "df_new = pd.read_sql(query,conn)"
      ]
    },
    {
      "cell_type": "code",
      "execution_count": 59,
      "metadata": {
        "colab": {
          "base_uri": "https://localhost:8080/",
          "height": 377
        },
        "id": "uNjCs6r0wKHv",
        "outputId": "eca15aa1-77a0-40bc-b92f-9b6af0dc180d"
      },
      "outputs": [
        {
          "output_type": "execute_result",
          "data": {
            "text/plain": [
              "       Name        Designation          Phone               Email  \\\n",
              "0  KARTHICK    General Manager  +123-456-7890  hello@Borcelle.com   \n",
              "1  KARTHICK    General Manager  +123-456-7890  hello@Borcelle.com   \n",
              "2  SANTHOSH  Technical Manager  +123-456-1234       hello@Sun.com   \n",
              "3  KARTHICK    General Manager  +123-456-7890  hello@Borcelle.com   \n",
              "\n",
              "            Website     City      State  Pincode  \\\n",
              "0  wwW.Borcelle.com    Salem  TamilNadu  6004513   \n",
              "1  wwW.Borcelle.com    Salem  TamilNadu  6004513   \n",
              "2        www.Suncom  Tirupur  TamilNadu   641603   \n",
              "3  www.Borcelle.com    Salem  TamilNadu  6004513   \n",
              "\n",
              "                                               image  \n",
              "0                                               None  \n",
              "1                                               None  \n",
              "2  b'\\x89PNG\\r\\n\\x1a\\n\\x00\\x00\\x00\\rIHDR\\x00\\x00\\...  \n",
              "3  b'\\x89PNG\\r\\n\\x1a\\n\\x00\\x00\\x00\\rIHDR\\x00\\x00\\...  "
            ],
            "text/html": [
              "\n",
              "  <div id=\"df-e86df715-1cec-4d43-964a-d9b80786c6c6\">\n",
              "    <div class=\"colab-df-container\">\n",
              "      <div>\n",
              "<style scoped>\n",
              "    .dataframe tbody tr th:only-of-type {\n",
              "        vertical-align: middle;\n",
              "    }\n",
              "\n",
              "    .dataframe tbody tr th {\n",
              "        vertical-align: top;\n",
              "    }\n",
              "\n",
              "    .dataframe thead th {\n",
              "        text-align: right;\n",
              "    }\n",
              "</style>\n",
              "<table border=\"1\" class=\"dataframe\">\n",
              "  <thead>\n",
              "    <tr style=\"text-align: right;\">\n",
              "      <th></th>\n",
              "      <th>Name</th>\n",
              "      <th>Designation</th>\n",
              "      <th>Phone</th>\n",
              "      <th>Email</th>\n",
              "      <th>Website</th>\n",
              "      <th>City</th>\n",
              "      <th>State</th>\n",
              "      <th>Pincode</th>\n",
              "      <th>image</th>\n",
              "    </tr>\n",
              "  </thead>\n",
              "  <tbody>\n",
              "    <tr>\n",
              "      <th>0</th>\n",
              "      <td>KARTHICK</td>\n",
              "      <td>General Manager</td>\n",
              "      <td>+123-456-7890</td>\n",
              "      <td>hello@Borcelle.com</td>\n",
              "      <td>wwW.Borcelle.com</td>\n",
              "      <td>Salem</td>\n",
              "      <td>TamilNadu</td>\n",
              "      <td>6004513</td>\n",
              "      <td>None</td>\n",
              "    </tr>\n",
              "    <tr>\n",
              "      <th>1</th>\n",
              "      <td>KARTHICK</td>\n",
              "      <td>General Manager</td>\n",
              "      <td>+123-456-7890</td>\n",
              "      <td>hello@Borcelle.com</td>\n",
              "      <td>wwW.Borcelle.com</td>\n",
              "      <td>Salem</td>\n",
              "      <td>TamilNadu</td>\n",
              "      <td>6004513</td>\n",
              "      <td>None</td>\n",
              "    </tr>\n",
              "    <tr>\n",
              "      <th>2</th>\n",
              "      <td>SANTHOSH</td>\n",
              "      <td>Technical Manager</td>\n",
              "      <td>+123-456-1234</td>\n",
              "      <td>hello@Sun.com</td>\n",
              "      <td>www.Suncom</td>\n",
              "      <td>Tirupur</td>\n",
              "      <td>TamilNadu</td>\n",
              "      <td>641603</td>\n",
              "      <td>b'\\x89PNG\\r\\n\\x1a\\n\\x00\\x00\\x00\\rIHDR\\x00\\x00\\...</td>\n",
              "    </tr>\n",
              "    <tr>\n",
              "      <th>3</th>\n",
              "      <td>KARTHICK</td>\n",
              "      <td>General Manager</td>\n",
              "      <td>+123-456-7890</td>\n",
              "      <td>hello@Borcelle.com</td>\n",
              "      <td>www.Borcelle.com</td>\n",
              "      <td>Salem</td>\n",
              "      <td>TamilNadu</td>\n",
              "      <td>6004513</td>\n",
              "      <td>b'\\x89PNG\\r\\n\\x1a\\n\\x00\\x00\\x00\\rIHDR\\x00\\x00\\...</td>\n",
              "    </tr>\n",
              "  </tbody>\n",
              "</table>\n",
              "</div>\n",
              "      <button class=\"colab-df-convert\" onclick=\"convertToInteractive('df-e86df715-1cec-4d43-964a-d9b80786c6c6')\"\n",
              "              title=\"Convert this dataframe to an interactive table.\"\n",
              "              style=\"display:none;\">\n",
              "        \n",
              "  <svg xmlns=\"http://www.w3.org/2000/svg\" height=\"24px\"viewBox=\"0 0 24 24\"\n",
              "       width=\"24px\">\n",
              "    <path d=\"M0 0h24v24H0V0z\" fill=\"none\"/>\n",
              "    <path d=\"M18.56 5.44l.94 2.06.94-2.06 2.06-.94-2.06-.94-.94-2.06-.94 2.06-2.06.94zm-11 1L8.5 8.5l.94-2.06 2.06-.94-2.06-.94L8.5 2.5l-.94 2.06-2.06.94zm10 10l.94 2.06.94-2.06 2.06-.94-2.06-.94-.94-2.06-.94 2.06-2.06.94z\"/><path d=\"M17.41 7.96l-1.37-1.37c-.4-.4-.92-.59-1.43-.59-.52 0-1.04.2-1.43.59L10.3 9.45l-7.72 7.72c-.78.78-.78 2.05 0 2.83L4 21.41c.39.39.9.59 1.41.59.51 0 1.02-.2 1.41-.59l7.78-7.78 2.81-2.81c.8-.78.8-2.07 0-2.86zM5.41 20L4 18.59l7.72-7.72 1.47 1.35L5.41 20z\"/>\n",
              "  </svg>\n",
              "      </button>\n",
              "      \n",
              "  <style>\n",
              "    .colab-df-container {\n",
              "      display:flex;\n",
              "      flex-wrap:wrap;\n",
              "      gap: 12px;\n",
              "    }\n",
              "\n",
              "    .colab-df-convert {\n",
              "      background-color: #E8F0FE;\n",
              "      border: none;\n",
              "      border-radius: 50%;\n",
              "      cursor: pointer;\n",
              "      display: none;\n",
              "      fill: #1967D2;\n",
              "      height: 32px;\n",
              "      padding: 0 0 0 0;\n",
              "      width: 32px;\n",
              "    }\n",
              "\n",
              "    .colab-df-convert:hover {\n",
              "      background-color: #E2EBFA;\n",
              "      box-shadow: 0px 1px 2px rgba(60, 64, 67, 0.3), 0px 1px 3px 1px rgba(60, 64, 67, 0.15);\n",
              "      fill: #174EA6;\n",
              "    }\n",
              "\n",
              "    [theme=dark] .colab-df-convert {\n",
              "      background-color: #3B4455;\n",
              "      fill: #D2E3FC;\n",
              "    }\n",
              "\n",
              "    [theme=dark] .colab-df-convert:hover {\n",
              "      background-color: #434B5C;\n",
              "      box-shadow: 0px 1px 3px 1px rgba(0, 0, 0, 0.15);\n",
              "      filter: drop-shadow(0px 1px 2px rgba(0, 0, 0, 0.3));\n",
              "      fill: #FFFFFF;\n",
              "    }\n",
              "  </style>\n",
              "\n",
              "      <script>\n",
              "        const buttonEl =\n",
              "          document.querySelector('#df-e86df715-1cec-4d43-964a-d9b80786c6c6 button.colab-df-convert');\n",
              "        buttonEl.style.display =\n",
              "          google.colab.kernel.accessAllowed ? 'block' : 'none';\n",
              "\n",
              "        async function convertToInteractive(key) {\n",
              "          const element = document.querySelector('#df-e86df715-1cec-4d43-964a-d9b80786c6c6');\n",
              "          const dataTable =\n",
              "            await google.colab.kernel.invokeFunction('convertToInteractive',\n",
              "                                                     [key], {});\n",
              "          if (!dataTable) return;\n",
              "\n",
              "          const docLinkHtml = 'Like what you see? Visit the ' +\n",
              "            '<a target=\"_blank\" href=https://colab.research.google.com/notebooks/data_table.ipynb>data table notebook</a>'\n",
              "            + ' to learn more about interactive tables.';\n",
              "          element.innerHTML = '';\n",
              "          dataTable['output_type'] = 'display_data';\n",
              "          await google.colab.output.renderOutput(dataTable, element);\n",
              "          const docLink = document.createElement('div');\n",
              "          docLink.innerHTML = docLinkHtml;\n",
              "          element.appendChild(docLink);\n",
              "        }\n",
              "      </script>\n",
              "    </div>\n",
              "  </div>\n",
              "  "
            ]
          },
          "metadata": {},
          "execution_count": 59
        }
      ],
      "source": [
        "df_new"
      ]
    },
    {
      "cell_type": "code",
      "source": [
        "sql1 = '''select * from Card_values where Website = 'www.Borcelle.com' '''"
      ],
      "metadata": {
        "id": "FLuq18OMaRbc"
      },
      "execution_count": 60,
      "outputs": []
    },
    {
      "cell_type": "code",
      "execution_count": 61,
      "metadata": {
        "id": "891SVx1H5wDv"
      },
      "outputs": [],
      "source": [
        "m= c.execute(sql1)"
      ]
    },
    {
      "cell_type": "code",
      "execution_count": 62,
      "metadata": {
        "id": "_NljMGAF6BNr"
      },
      "outputs": [],
      "source": [
        "for x in m:\n",
        "  rec_data=(x[8])"
      ]
    },
    {
      "cell_type": "code",
      "source": [
        "rec_data"
      ],
      "metadata": {
        "id": "Zn5dmql915Ca"
      },
      "execution_count": null,
      "outputs": []
    },
    {
      "cell_type": "code",
      "execution_count": 63,
      "metadata": {
        "id": "QkyLt6fJ2yDM"
      },
      "outputs": [],
      "source": [
        "with open('card_image.png','wb') as f:\n",
        "  f.write(rec_data)"
      ]
    },
    {
      "cell_type": "code",
      "execution_count": null,
      "metadata": {
        "id": "tPFAQhjy8D9v"
      },
      "outputs": [],
      "source": []
    }
  ],
  "metadata": {
    "colab": {
      "provenance": [],
      "authorship_tag": "ABX9TyPrICeB8bP9Y7RSMsgF42eM",
      "include_colab_link": true
    },
    "kernelspec": {
      "display_name": "Python 3",
      "name": "python3"
    },
    "language_info": {
      "name": "python"
    }
  },
  "nbformat": 4,
  "nbformat_minor": 0
}