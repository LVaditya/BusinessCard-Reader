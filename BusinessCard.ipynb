{
  "nbformat": 4,
  "nbformat_minor": 0,
  "metadata": {
    "colab": {
      "provenance": [],
      "authorship_tag": "ABX9TyPNKeSqA+DUX4K6bw+jMBV5",
      "include_colab_link": true
    },
    "kernelspec": {
      "name": "python3",
      "display_name": "Python 3"
    },
    "language_info": {
      "name": "python"
    }
  },
  "cells": [
    {
      "cell_type": "markdown",
      "metadata": {
        "id": "view-in-github",
        "colab_type": "text"
      },
      "source": [
        "<a href=\"https://colab.research.google.com/github/LVaditya/BusinessCard-Reader/blob/main/BusinessCard.ipynb\" target=\"_parent\"><img src=\"https://colab.research.google.com/assets/colab-badge.svg\" alt=\"Open In Colab\"/></a>"
      ]
    },
    {
      "cell_type": "code",
      "execution_count": null,
      "metadata": {
        "id": "iBQi_GffpH57"
      },
      "outputs": [],
      "source": [
        "!pip install easyocr "
      ]
    },
    {
      "cell_type": "code",
      "source": [
        "!pip install streamlit"
      ],
      "metadata": {
        "id": "QGYZvbiuTSIK"
      },
      "execution_count": null,
      "outputs": []
    },
    {
      "cell_type": "code",
      "source": [
        "!pip install pyngrok"
      ],
      "metadata": {
        "id": "d_5CDamdT-JP"
      },
      "execution_count": null,
      "outputs": []
    },
    {
      "cell_type": "code",
      "source": [
        "from pyngrok import ngrok"
      ],
      "metadata": {
        "id": "YDMApNEMUDuc"
      },
      "execution_count": 4,
      "outputs": []
    },
    {
      "cell_type": "code",
      "source": [
        "ngrok.set_auth_token('2L6Kz7Hvawi3QB7akHGUu8CRsfi_5JPuFqERA67quEKGFuvaU')"
      ],
      "metadata": {
        "colab": {
          "base_uri": "https://localhost:8080/"
        },
        "id": "LivHGs9jUISX",
        "outputId": "5ad50da5-f05c-4392-c0e6-b3171db1ddd6"
      },
      "execution_count": 5,
      "outputs": [
        {
          "output_type": "stream",
          "name": "stdout",
          "text": []
        }
      ]
    },
    {
      "cell_type": "code",
      "source": [
        "%%writefile app.py\n",
        "\n",
        "# import all the packages needed\n",
        "\n",
        "import streamlit as st \n",
        "from PIL import Image\n",
        "import easyocr\n",
        "import pandas as pd\n",
        "import numpy as np\n",
        "import re\n",
        "import os\n",
        "import sqlite3\n",
        "\n",
        "\n",
        "conn = sqlite3.connect('Businesscard.db')\n",
        "c = conn.cursor()\n",
        "\n",
        "\n",
        "#-------Page Configuration--------\n",
        "\n",
        "st.set_page_config(page_title=\"Business Card Reader\",\n",
        "                    page_icon=\":black_small_square:\",\n",
        "                    layout=\"wide\"\n",
        "                    )\n",
        "\n",
        "st.title(\"Business Card Reader\")\n",
        "\n",
        "\n",
        "#loading the image\n",
        "\n",
        "\n",
        "def main():\n",
        " \n",
        "  #file to be uploaded is taken as image_file\n",
        "\n",
        "  image_file= st.file_uploader(\"upload the image of business card you want to extract data\", type=[\"jpg\",\"png\",\"jpeg\"])\n",
        "\n",
        "  #-----------------image file read as binary file into image-----\n",
        "\n",
        "  with open(os.path.join(\"tempDir\",image_file.name),\"wb\") as f: \n",
        "    f.write(image_file.getbuffer()) \n",
        "  #image_file_path=os.path.abspath(image_file)\n",
        "  #with open(image_file_path,'r') as f:\n",
        "   # image = f.read()\n",
        "\n",
        "#-------image file is read using OCR------\n",
        "  @st.cache_data\n",
        "  def load_model():\n",
        "    reader=easyocr.Reader(['en'])\n",
        "    return reader\n",
        "  \n",
        "  reader=load_model()\n",
        "\n",
        "  #-----------------if the image is uploaded------\n",
        "\n",
        "  if image_file is not None:\n",
        "\n",
        "    img = Image.open(image_file)  #read image\n",
        "    st.image(img, width=400)                 #display image\n",
        "\n",
        "    with st.spinner(\"Please wait.... work in progress\"):\n",
        "\n",
        "      data = reader.readtext(np.array(img))       #load the data from image as data\n",
        "      text_result=[]\n",
        "\n",
        "      text_dict={'Name':[], 'Designation':[], 'Phone':[], 'Email':[], 'Website':[], 'City':[], 'State':[], 'Pincode':[]}\n",
        "      for text in data:\n",
        "        text_result.append(text[1])\n",
        "\n",
        "      text_dict['Name'] = text_result[0]\n",
        "      text_dict['Designation']= text_result[1]\n",
        "\n",
        "\n",
        "      for text in text_result:\n",
        "        if 'WWW'in text or 'www' in text or 'wwW' in text:\n",
        "          text_dict['Website'] = text\n",
        "\n",
        "        elif '@' in text: \n",
        "          text_dict['Email']= text\n",
        "\n",
        "        elif '-' in text:\n",
        "          text_dict['Phone'] = text\n",
        "        \n",
        "        else:\n",
        "          l=list(map(str,text.split(\" \")))\n",
        "          for i in l:\n",
        "            i=i.replace(\",\",\"\")\n",
        "            i=i.replace(\";\",\"\")\n",
        "            if i.isdigit():\n",
        "              text_dict['Pincode'] = i\n",
        "            elif i.lower() in ['tamilnadu', 'kerala','karnataka', \n",
        "            'maharashtra', 'delhi', 'andhra pradesh', 'telangana' ]:\n",
        "              text_dict['State'] = i\n",
        "            elif i.lower() in ['chennai', 'hydrabad', 'salem', 'erode', 'tirupur', 'coimbatore']:\n",
        "              text_dict['City'] = i\n",
        "\n",
        "      st.experimental_data_editor(data=text_dict)            #All collected data is displayed in table format\n",
        "\n",
        "      \n",
        "      #text_dict['Image']= image_file.name\n",
        "      #-------------providing edit options in the GUI---------\n",
        "\n",
        "  #if \"button_clicked\" not in st.session_state:\n",
        "   # st.session_state.button_clicked = False\n",
        "\n",
        "  #def callback():\n",
        "   # st.session_state.button_clicked = True \n",
        "\n",
        "  #if(st.button(\"edit\", on_click = callback) or\n",
        "   #   st.session_state.button_clicked):\n",
        "    #choice = st.select(\"select\",['Name', 'Designation','Email','Phone','Website','city','State','Pincode'])\n",
        "    #if choice== 'Name':\n",
        "     # Text_dict['Name']=st.text_intput(\"Update Name\")\n",
        "          \n",
        "      \n",
        "\n",
        "\n",
        "     \n",
        "      df=pd.DataFrame(text_dict, index=[0])    #converting into dataframe\n",
        "\n",
        "#-----------to upload the data into sqlite------\n",
        "\n",
        "    upload = st.button(\"upload data\")\n",
        "\n",
        "    if upload:\n",
        "      try:\n",
        "        df.to_sql('Card_values',conn,if_exists='replace',index=False)    # data appended into a table in database\n",
        "       \n",
        "\n",
        "\n",
        "      except:\n",
        "        print(\"connection error\")\n",
        "\n",
        "    conn.commit()\n",
        "    c.close()\n",
        "    conn.close()\n",
        "\n",
        "#----------if image not uploaded-----\n",
        "    \n",
        "  else:\n",
        "    st.write(\"upload an image of business card\")\n",
        "\n",
        "\n",
        "\n",
        "  \n",
        "if __name__=='__main__':\n",
        "  main()"
      ],
      "metadata": {
        "colab": {
          "base_uri": "https://localhost:8080/"
        },
        "id": "KZuY9g5iUJRX",
        "outputId": "f4b03065-8254-41bd-9c2c-9f8f796b514a"
      },
      "execution_count": 25,
      "outputs": [
        {
          "output_type": "stream",
          "name": "stdout",
          "text": [
            "Overwriting app.py\n"
          ]
        }
      ]
    },
    {
      "cell_type": "code",
      "source": [
        "!nohup streamlit run app.py --server.port 80 &\n",
        "url = ngrok.connect(port = '80')\n",
        "print(url)"
      ],
      "metadata": {
        "colab": {
          "base_uri": "https://localhost:8080/"
        },
        "id": "3muXludiXWNG",
        "outputId": "59543509-8cd3-478f-f470-b537269a8352"
      },
      "execution_count": 26,
      "outputs": [
        {
          "output_type": "stream",
          "name": "stdout",
          "text": [
            "nohup: appending output to 'nohup.out'\n",
            "NgrokTunnel: \"http://9766-34-80-43-5.ngrok.io\" -> \"http://localhost:80\"\n"
          ]
        }
      ]
    },
    {
      "cell_type": "code",
      "source": [
        "import sqlite3\n",
        "import pandas as pd"
      ],
      "metadata": {
        "id": "C34Izd4wvWCn"
      },
      "execution_count": 28,
      "outputs": []
    },
    {
      "cell_type": "code",
      "source": [
        "conn=sqlite3.connect('Businesscard.db')\n",
        "c=conn.cursor()\n"
      ],
      "metadata": {
        "id": "ePHXyRs5vbDb"
      },
      "execution_count": 29,
      "outputs": []
    },
    {
      "cell_type": "code",
      "source": [
        "c.execute('''select* from Card_values''')"
      ],
      "metadata": {
        "id": "4-quKSviiW34",
        "colab": {
          "base_uri": "https://localhost:8080/"
        },
        "outputId": "752fb406-5fe1-4d22-9cdf-0444eb82ba32"
      },
      "execution_count": 12,
      "outputs": [
        {
          "output_type": "execute_result",
          "data": {
            "text/plain": [
              "<sqlite3.Cursor at 0x7f9c93aa67a0>"
            ]
          },
          "metadata": {},
          "execution_count": 12
        }
      ]
    },
    {
      "cell_type": "code",
      "source": [
        "query='''select * from Card_values'''"
      ],
      "metadata": {
        "id": "dq9o9llTv95g"
      },
      "execution_count": 13,
      "outputs": []
    },
    {
      "cell_type": "code",
      "source": [
        "m= c.execute(query)"
      ],
      "metadata": {
        "id": "891SVx1H5wDv"
      },
      "execution_count": 19,
      "outputs": []
    },
    {
      "cell_type": "code",
      "source": [
        "for x in m:\n",
        "  print(x)"
      ],
      "metadata": {
        "id": "_NljMGAF6BNr"
      },
      "execution_count": 21,
      "outputs": []
    },
    {
      "cell_type": "code",
      "source": [
        "with open('card_image.png','wb') as f:\n",
        "  f.write(rec_data)"
      ],
      "metadata": {
        "colab": {
          "base_uri": "https://localhost:8080/"
        },
        "id": "QkyLt6fJ2yDM",
        "outputId": "8102ec1e-f093-4df8-bfce-e11f96194634"
      },
      "execution_count": null,
      "outputs": [
        {
          "output_type": "execute_result",
          "data": {
            "text/plain": [
              "<sqlite3.Cursor at 0x7f97f9dc39d0>"
            ]
          },
          "metadata": {},
          "execution_count": 16
        }
      ]
    },
    {
      "cell_type": "code",
      "source": [
        "df_new = pd.read_sql(query,conn)"
      ],
      "metadata": {
        "id": "KUBuAV-Wvq0z"
      },
      "execution_count": 14,
      "outputs": []
    },
    {
      "cell_type": "code",
      "source": [
        "df_new"
      ],
      "metadata": {
        "colab": {
          "base_uri": "https://localhost:8080/",
          "height": 49
        },
        "id": "uNjCs6r0wKHv",
        "outputId": "bc06efbc-2a63-484d-8dac-668822bc012f"
      },
      "execution_count": 17,
      "outputs": [
        {
          "output_type": "execute_result",
          "data": {
            "text/plain": [
              "Empty DataFrame\n",
              "Columns: [Name, Designation, Phone, Email, Website, City, State, Pincode, Image]\n",
              "Index: []"
            ],
            "text/html": [
              "\n",
              "  <div id=\"df-f981eb23-6666-46c9-8ba7-876ac521c9f2\">\n",
              "    <div class=\"colab-df-container\">\n",
              "      <div>\n",
              "<style scoped>\n",
              "    .dataframe tbody tr th:only-of-type {\n",
              "        vertical-align: middle;\n",
              "    }\n",
              "\n",
              "    .dataframe tbody tr th {\n",
              "        vertical-align: top;\n",
              "    }\n",
              "\n",
              "    .dataframe thead th {\n",
              "        text-align: right;\n",
              "    }\n",
              "</style>\n",
              "<table border=\"1\" class=\"dataframe\">\n",
              "  <thead>\n",
              "    <tr style=\"text-align: right;\">\n",
              "      <th></th>\n",
              "      <th>Name</th>\n",
              "      <th>Designation</th>\n",
              "      <th>Phone</th>\n",
              "      <th>Email</th>\n",
              "      <th>Website</th>\n",
              "      <th>City</th>\n",
              "      <th>State</th>\n",
              "      <th>Pincode</th>\n",
              "      <th>Image</th>\n",
              "    </tr>\n",
              "  </thead>\n",
              "  <tbody>\n",
              "  </tbody>\n",
              "</table>\n",
              "</div>\n",
              "      <button class=\"colab-df-convert\" onclick=\"convertToInteractive('df-f981eb23-6666-46c9-8ba7-876ac521c9f2')\"\n",
              "              title=\"Convert this dataframe to an interactive table.\"\n",
              "              style=\"display:none;\">\n",
              "        \n",
              "  <svg xmlns=\"http://www.w3.org/2000/svg\" height=\"24px\"viewBox=\"0 0 24 24\"\n",
              "       width=\"24px\">\n",
              "    <path d=\"M0 0h24v24H0V0z\" fill=\"none\"/>\n",
              "    <path d=\"M18.56 5.44l.94 2.06.94-2.06 2.06-.94-2.06-.94-.94-2.06-.94 2.06-2.06.94zm-11 1L8.5 8.5l.94-2.06 2.06-.94-2.06-.94L8.5 2.5l-.94 2.06-2.06.94zm10 10l.94 2.06.94-2.06 2.06-.94-2.06-.94-.94-2.06-.94 2.06-2.06.94z\"/><path d=\"M17.41 7.96l-1.37-1.37c-.4-.4-.92-.59-1.43-.59-.52 0-1.04.2-1.43.59L10.3 9.45l-7.72 7.72c-.78.78-.78 2.05 0 2.83L4 21.41c.39.39.9.59 1.41.59.51 0 1.02-.2 1.41-.59l7.78-7.78 2.81-2.81c.8-.78.8-2.07 0-2.86zM5.41 20L4 18.59l7.72-7.72 1.47 1.35L5.41 20z\"/>\n",
              "  </svg>\n",
              "      </button>\n",
              "      \n",
              "  <style>\n",
              "    .colab-df-container {\n",
              "      display:flex;\n",
              "      flex-wrap:wrap;\n",
              "      gap: 12px;\n",
              "    }\n",
              "\n",
              "    .colab-df-convert {\n",
              "      background-color: #E8F0FE;\n",
              "      border: none;\n",
              "      border-radius: 50%;\n",
              "      cursor: pointer;\n",
              "      display: none;\n",
              "      fill: #1967D2;\n",
              "      height: 32px;\n",
              "      padding: 0 0 0 0;\n",
              "      width: 32px;\n",
              "    }\n",
              "\n",
              "    .colab-df-convert:hover {\n",
              "      background-color: #E2EBFA;\n",
              "      box-shadow: 0px 1px 2px rgba(60, 64, 67, 0.3), 0px 1px 3px 1px rgba(60, 64, 67, 0.15);\n",
              "      fill: #174EA6;\n",
              "    }\n",
              "\n",
              "    [theme=dark] .colab-df-convert {\n",
              "      background-color: #3B4455;\n",
              "      fill: #D2E3FC;\n",
              "    }\n",
              "\n",
              "    [theme=dark] .colab-df-convert:hover {\n",
              "      background-color: #434B5C;\n",
              "      box-shadow: 0px 1px 3px 1px rgba(0, 0, 0, 0.15);\n",
              "      filter: drop-shadow(0px 1px 2px rgba(0, 0, 0, 0.3));\n",
              "      fill: #FFFFFF;\n",
              "    }\n",
              "  </style>\n",
              "\n",
              "      <script>\n",
              "        const buttonEl =\n",
              "          document.querySelector('#df-f981eb23-6666-46c9-8ba7-876ac521c9f2 button.colab-df-convert');\n",
              "        buttonEl.style.display =\n",
              "          google.colab.kernel.accessAllowed ? 'block' : 'none';\n",
              "\n",
              "        async function convertToInteractive(key) {\n",
              "          const element = document.querySelector('#df-f981eb23-6666-46c9-8ba7-876ac521c9f2');\n",
              "          const dataTable =\n",
              "            await google.colab.kernel.invokeFunction('convertToInteractive',\n",
              "                                                     [key], {});\n",
              "          if (!dataTable) return;\n",
              "\n",
              "          const docLinkHtml = 'Like what you see? Visit the ' +\n",
              "            '<a target=\"_blank\" href=https://colab.research.google.com/notebooks/data_table.ipynb>data table notebook</a>'\n",
              "            + ' to learn more about interactive tables.';\n",
              "          element.innerHTML = '';\n",
              "          dataTable['output_type'] = 'display_data';\n",
              "          await google.colab.output.renderOutput(dataTable, element);\n",
              "          const docLink = document.createElement('div');\n",
              "          docLink.innerHTML = docLinkHtml;\n",
              "          element.appendChild(docLink);\n",
              "        }\n",
              "      </script>\n",
              "    </div>\n",
              "  </div>\n",
              "  "
            ]
          },
          "metadata": {},
          "execution_count": 17
        }
      ]
    },
    {
      "cell_type": "code",
      "source": [],
      "metadata": {
        "id": "tPFAQhjy8D9v"
      },
      "execution_count": null,
      "outputs": []
    }
  ]
}